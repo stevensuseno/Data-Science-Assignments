{
 "cells": [
  {
   "cell_type": "markdown",
   "metadata": {
    "colab_type": "text",
    "id": "1oGjoWSWqQ77"
   },
   "source": [
    "## Assignment 3"
   ]
  },
  {
   "cell_type": "markdown",
   "metadata": {
    "colab_type": "text",
    "id": "-oi4JzShqQ78"
   },
   "source": [
    "This assignmemt is based on content discussed in module 3 and test basic concepts of probability theory and normalization in statistics."
   ]
  },
  {
   "cell_type": "markdown",
   "metadata": {
    "colab_type": "text",
    "id": "gjI1J5nXqQ79"
   },
   "source": [
    "## Learning outcomes"
   ]
  },
  {
   "cell_type": "markdown",
   "metadata": {
    "colab_type": "text",
    "id": "R9t0LyaqqQ7-"
   },
   "source": [
    "-   Work on problems of different distributions eg., binomial, gaussian \n",
    "-   Calculate z score \n",
    "-\t Make statistical inferences on given data\n",
    "-\t Construct a null and an alternate hypothesis\n",
    "-\t Find the p-value for a given hypothesis and T test statistic.\n"
   ]
  },
  {
   "cell_type": "markdown",
   "metadata": {
    "colab_type": "text",
    "id": "_lXvCMN_qQ7_"
   },
   "source": [
    "**Question 1**\n",
    "\n",
    "The Capital Asset Pricing Model (CAPM) is a financial model that assumes returns on a portfolio are normally distributed.  Suppose a portfolio has an average annual return of 14.7% (i.e., an average gain on 14.7%) with a standard deviation of 33%.  A return of 0% means the value of the portfolio doesn't change, a negative return means that the portfolio loses money, and a positive return means that the portfolio gains money. Determine the following:\n",
    "\n",
    "1. What percentage of years does this portfolio lose money, (i.e. have a return less than 0%)?\n",
    "2. What is the cutoff for the highest 15% of annual returns with this portfolio?\n",
    "\n",
    "See CAPM here https://en.wikipedia.org/wiki/Capital_asset_pricing_model "
   ]
  },
  {
   "cell_type": "markdown",
   "metadata": {
    "colab_type": "text",
    "id": "_l53E9BAqQ8A"
   },
   "source": [
    "**Question 2**\n",
    "\n",
    "Past experience indicates that because of low morale, a company loses 20 hours a year per employee due to lateness and abstenteeism.  Assume that the standard deviation of the population is 6 and normally distributed.\n",
    "\n",
    "The HR department implemented a new rewards system to increase employee morale, and after a few months it collected a random sample of 20 employees and the annualized absenteeism was 14.\n",
    "\n",
    "1. Could you confirm that the new rewards system was effective with a 90% confidence?\n",
    "2. An HR subject matter expert would be very happy if the program could reduce absenteeism by 20% (i.e. to 16 hours).  Given the current sampling parameters, what is the probability that the new rewards system reduced absenteeism to 16 hours and you miss it?\n",
    "3. Repeat part 1) and 2) with an α = 95% CI.\n",
    "4. Based on the answers in 3), is the sampling method good enough to identify a reduction from 20 to 16 hours if I use a confidence of 95%?\n",
    "5. What should the sample size be if you want β to be 5%"
   ]
  },
  {
   "cell_type": "markdown",
   "metadata": {
    "colab_type": "text",
    "id": "LOjrz6ycqQ8A"
   },
   "source": [
    "**Question 3**\n",
    "\n",
    "Chi-Square Goodness of fit\n",
    "\n",
    "Please access and review **section 6.3.5** in the OpenIntro Statistics textbook:\n",
    "\n",
    "Diez, D., Barr, C. & Çetinkaya-Rundel, M. (2017). OpenIntro Statistics (3rd Ed.). https://www.openintro.org/stat/textbook.php?stat_book=os\n",
    "\n",
    "Given the information in section 6.3.5, write python code for the following:\n",
    "\n",
    " - Calculate the expected values based on the geometric distribution with a probability of 53.2%\n",
    " - Compare the expected vs. the observed values from the textbook using the Chi-Square distribution\n",
    " - Reach a conclusion\n",
    " - Explain what is the business impact of your conclusion"
   ]
  },
  {
   "cell_type": "code",
   "execution_count": 1,
   "metadata": {
    "colab": {},
    "colab_type": "code",
    "id": "hSKqK4gZqQ8B"
   },
   "outputs": [],
   "source": [
    "# Import libraries\n",
    "import numpy as np\n",
    "import pandas as pd\n",
    "import matplotlib.pyplot as plt\n",
    "import scipy.stats as stats\n",
    "import seaborn as sns\n",
    "import math\n",
    "from scipy.stats import chisquare"
   ]
  },
  {
   "cell_type": "code",
   "execution_count": 2,
   "metadata": {},
   "outputs": [
    {
     "data": {
      "text/plain": [
       "0.3279956507031998"
      ]
     },
     "execution_count": 2,
     "metadata": {},
     "output_type": "execute_result"
    }
   ],
   "source": [
    "# Answer to Question 1.1 - This portfolio lose money 32.8% of the time based on annualized returns\n",
    "mu = 14.7\n",
    "sigma = 33\n",
    "x_critical = 0\n",
    "zscore = (x_critical - mu) / sigma\n",
    "p = stats.norm.cdf(zscore)\n",
    "p"
   ]
  },
  {
   "cell_type": "code",
   "execution_count": 3,
   "metadata": {},
   "outputs": [
    {
     "data": {
      "text/plain": [
       "48.90230185329506"
      ]
     },
     "execution_count": 3,
     "metadata": {},
     "output_type": "execute_result"
    }
   ],
   "source": [
    "# Answer to Question 1.2 - The cutoff for the highest 15% is 48.9% annual returns\n",
    "mu = 14.7\n",
    "sigma = 33\n",
    "zscore = stats.norm.ppf(0.85)\n",
    "cutoff = zscore * sigma + mu\n",
    "cutoff"
   ]
  },
  {
   "cell_type": "code",
   "execution_count": 4,
   "metadata": {},
   "outputs": [
    {
     "data": {
      "text/plain": [
       "Ttest_1sampResult(statistic=-6.292732676584281, pvalue=4.849943627844383e-06)"
      ]
     },
     "execution_count": 4,
     "metadata": {},
     "output_type": "execute_result"
    }
   ],
   "source": [
    "# Answer to Question 2.1\n",
    "# p-value is below 0.10%, so we have 90% confidence to reject the null hypothesis and conclude that the new reward system was effective\n",
    "population_mean = 20\n",
    "std_dev = 6\n",
    "sample_mean = 14\n",
    "sample_size = 20\n",
    "sample_data = np.random.normal(sample_mean, std_dev, sample_size)\n",
    "ttest = stats.ttest_1samp(sample_data, 20)\n",
    "ttest"
   ]
  },
  {
   "cell_type": "code",
   "execution_count": 5,
   "metadata": {},
   "outputs": [
    {
     "data": {
      "text/plain": [
       "0.044577464303378944"
      ]
     },
     "execution_count": 5,
     "metadata": {},
     "output_type": "execute_result"
    }
   ],
   "source": [
    "# Answer to Question 2.2\n",
    "# Using 90% confidence interval, we have 4.45% probability that the new rewards system reduced absenteeism to 16 hours and we miss to reject it\n",
    "expected_mean = 16\n",
    "zscore_1 = stats.norm.ppf(0.10)\n",
    "x_critical = zscore_1 * (std_dev / math.sqrt(sample_size)) + population_mean\n",
    "zscore_2 = (x_critical - expected_mean) / (std_dev / math.sqrt(sample_size))\n",
    "p = 1 - stats.norm.cdf(zscore_2)\n",
    "p"
   ]
  },
  {
   "cell_type": "code",
   "execution_count": 6,
   "metadata": {},
   "outputs": [
    {
     "data": {
      "text/plain": [
       "0.09068146248885567"
      ]
     },
     "execution_count": 6,
     "metadata": {},
     "output_type": "execute_result"
    }
   ],
   "source": [
    "# Answer to Question 2.3\n",
    "# p-value is below 0.05%, so we have 95% confidence to reject the null hypothesis and conclude that the new reward system was effective\n",
    "# Using 95% confidence interval, we have 9.07% probability that the new rewards system reduced absenteeism to 16 hours and we miss to reject it\n",
    "expected_mean = 16\n",
    "zscore_1 = stats.norm.ppf(0.05)\n",
    "x_critical = zscore_1 * (std_dev / math.sqrt(sample_size)) + population_mean\n",
    "zscore_2 = (x_critical - expected_mean) / (std_dev / math.sqrt(sample_size))\n",
    "p = 1 - stats.norm.cdf(zscore_2)\n",
    "p"
   ]
  },
  {
   "cell_type": "code",
   "execution_count": 7,
   "metadata": {},
   "outputs": [],
   "source": [
    "# Answer to Question 2.4\n",
    "# Based on Answer to Question 2.3, \n",
    "# the sampling method is not good enough to identify a reduction from 20 to 16 hours if we use a confidence of 95%"
   ]
  },
  {
   "cell_type": "code",
   "execution_count": 8,
   "metadata": {},
   "outputs": [
    {
     "data": {
      "text/plain": [
       "0.045659590664034466"
      ]
     },
     "execution_count": 8,
     "metadata": {},
     "output_type": "execute_result"
    }
   ],
   "source": [
    "# Answer to Question 2.5\n",
    "# By doing trial and errors, we find that we need the sample size to be 25 if we want β to be 5%\n",
    "sample_size_required = 25\n",
    "x_critical = stats.norm.ppf(0.05) * (std_dev / math.sqrt(sample_size_required)) + population_mean\n",
    "zscore = (x_critical - 16) / (std_dev / math.sqrt(sample_size_required))\n",
    "p = 1 - stats.norm.cdf(zscore)\n",
    "p"
   ]
  },
  {
   "cell_type": "code",
   "execution_count": 9,
   "metadata": {},
   "outputs": [
    {
     "data": {
      "text/plain": [
       "[725, 339, 159, 74, 35, 16, 14]"
      ]
     },
     "execution_count": 9,
     "metadata": {},
     "output_type": "execute_result"
    }
   ],
   "source": [
    "# Answer to Question 3.1 - Calculate the expected values based on the geometric distribution with a probability of 53.2%\n",
    "def expected_value(n):\n",
    "    return round((1 - 0.532) ** (n - 1) * 0.532 * 1362)\n",
    "\n",
    "EV_list = [expected_value(1), expected_value(2), expected_value(3), expected_value(4), expected_value(5), expected_value(6),\n",
    "           1362 - (expected_value(1) + expected_value(2) + expected_value(3) + expected_value(4) + expected_value(5) + expected_value(6))]\n",
    "EV_list"
   ]
  },
  {
   "cell_type": "code",
   "execution_count": 10,
   "metadata": {},
   "outputs": [
    {
     "name": "stdout",
     "output_type": "stream",
     "text": [
      "Chi-square Statistic= 5.97\n",
      "p-value= 0.43\n"
     ]
    }
   ],
   "source": [
    "# Answer to Question 3.2 - Compare the expected vs. the observed values from the textbook using the Chi-Square distribution\n",
    "test=chisquare([717, 369, 155, 69, 28, 14, 10], f_exp = EV_list)\n",
    "print('Chi-square Statistic= %.2f' %test.statistic)\n",
    "print('p-value= %.2f' %test.pvalue)"
   ]
  },
  {
   "cell_type": "code",
   "execution_count": 11,
   "metadata": {},
   "outputs": [],
   "source": [
    "# Answer to Question 3.3 - Reach a conclusion\n",
    "# We do not have enough statistical evidence to say that our observations do not fit the geometric distribution where p = 53.2%"
   ]
  },
  {
   "cell_type": "code",
   "execution_count": 12,
   "metadata": {},
   "outputs": [],
   "source": [
    "# Answer to Question 3.4 - Explain what is the business impact of your conclusion\n",
    "# Thus we conclude at at p = 53.2%, stock activity each day is independent of the stock’s behavior on previous days"
   ]
  }
 ],
 "metadata": {
  "colab": {
   "collapsed_sections": [],
   "name": "Assignment 3v.3.ipynb",
   "provenance": [],
   "version": "0.3.2"
  },
  "kernelspec": {
   "display_name": "Python 3 (ipykernel)",
   "language": "python",
   "name": "python3"
  },
  "language_info": {
   "codemirror_mode": {
    "name": "ipython",
    "version": 3
   },
   "file_extension": ".py",
   "mimetype": "text/x-python",
   "name": "python",
   "nbconvert_exporter": "python",
   "pygments_lexer": "ipython3",
   "version": "3.9.13"
  }
 },
 "nbformat": 4,
 "nbformat_minor": 1
}
